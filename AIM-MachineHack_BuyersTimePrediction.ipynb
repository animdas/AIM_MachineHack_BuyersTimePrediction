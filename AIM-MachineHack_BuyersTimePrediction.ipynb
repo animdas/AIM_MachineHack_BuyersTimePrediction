{
 "cells": [
  {
   "cell_type": "markdown",
   "metadata": {},
   "source": [
    "# MachineHack_BuyersTimePrediction"
   ]
  },
  {
   "cell_type": "markdown",
   "metadata": {},
   "source": [
    "### import the required libraries"
   ]
  },
  {
   "cell_type": "code",
   "execution_count": 72,
   "metadata": {},
   "outputs": [],
   "source": [
    "import os \n",
    "import numpy as np\n",
    "import pandas as pd\n",
    "import matplotlib.pyplot as plt\n",
    "import seaborn as sns\n",
    "%matplotlib inline\n",
    "\n",
    "from scipy.stats import norm\n",
    "from sklearn.feature_extraction.text import TfidfVectorizer\n",
    "from sklearn.preprocessing import StandardScaler\n",
    "from sklearn.model_selection import train_test_split\n",
    "from sklearn.metrics import mean_squared_log_error\n",
    "from sklearn.model_selection import cross_val_score, KFold\n",
    "from xgboost import XGBRegressor\n",
    "from lightgbm import LGBMRegressor\n",
    "from sklearn.linear_model import LinearRegression, Ridge, Lasso\n",
    "from catboost import CatBoostRegressor\n",
    "from sklearn.ensemble import RandomForestRegressor, GradientBoostingRegressor\n",
    "from sklearn.kernel_ridge import KernelRidge\n",
    "from sklearn.ensemble import VotingRegressor, StackingRegressor\n",
    "\n",
    "import warnings\n",
    "warnings.filterwarnings('ignore')"
   ]
  },
  {
   "cell_type": "code",
   "execution_count": 73,
   "metadata": {},
   "outputs": [],
   "source": [
    "os.chdir('C:\\\\Users\\\\animdas\\\\Documents\\\\Data Science Projects\\\\MachineHack_BuyersTimePrediction\\\\ParticipantData_BTPC')"
   ]
  },
  {
   "cell_type": "markdown",
   "metadata": {},
   "source": [
    "### Feature Description\n",
    "\n",
    "1. session_id – Unique identifier for every row\n",
    "2. session_number – Session type identifier\n",
    "3. client_agent – Client-side software details\n",
    "4. device_details – Client-side device details\n",
    "5. date – Datestamp of the session\n",
    "6. purchased – Binary value for any purchase done\n",
    "7. added_in_cart – Binary value for cart activity\n",
    "8. checked_out – Binary value for checking out successfully\n",
    "9. time_spent – Total time spent in seconds (Target Column)"
   ]
  },
  {
   "cell_type": "markdown",
   "metadata": {},
   "source": [
    "### Read the different datasets"
   ]
  },
  {
   "cell_type": "code",
   "execution_count": 74,
   "metadata": {},
   "outputs": [
    {
     "data": {
      "text/html": [
       "<div>\n",
       "<style scoped>\n",
       "    .dataframe tbody tr th:only-of-type {\n",
       "        vertical-align: middle;\n",
       "    }\n",
       "\n",
       "    .dataframe tbody tr th {\n",
       "        vertical-align: top;\n",
       "    }\n",
       "\n",
       "    .dataframe thead th {\n",
       "        text-align: right;\n",
       "    }\n",
       "</style>\n",
       "<table border=\"1\" class=\"dataframe\">\n",
       "  <thead>\n",
       "    <tr style=\"text-align: right;\">\n",
       "      <th></th>\n",
       "      <th>session_id</th>\n",
       "      <th>session_number</th>\n",
       "      <th>client_agent</th>\n",
       "      <th>device_details</th>\n",
       "      <th>date</th>\n",
       "      <th>purchased</th>\n",
       "      <th>added_in_cart</th>\n",
       "      <th>checked_out</th>\n",
       "      <th>time_spent</th>\n",
       "      <th>data</th>\n",
       "    </tr>\n",
       "  </thead>\n",
       "  <tbody>\n",
       "    <tr>\n",
       "      <th>0</th>\n",
       "      <td>57f879e70d3c5fc2a98102d64c9fd84e</td>\n",
       "      <td>715</td>\n",
       "      <td>Mozilla/5.0 (Windows NT 6.1; WOW64) AppleWebKi...</td>\n",
       "      <td>Desktop - Chrome</td>\n",
       "      <td>2020-01-22</td>\n",
       "      <td>1</td>\n",
       "      <td>0</td>\n",
       "      <td>0</td>\n",
       "      <td>236.886</td>\n",
       "      <td>train</td>\n",
       "    </tr>\n",
       "    <tr>\n",
       "      <th>1</th>\n",
       "      <td>a5442b0c7c33d0a811e7661e556b2de8</td>\n",
       "      <td>55</td>\n",
       "      <td>Product/8.0 iPhone/8.1.3</td>\n",
       "      <td>iPhone - iOS</td>\n",
       "      <td>2020-02-27</td>\n",
       "      <td>1</td>\n",
       "      <td>0</td>\n",
       "      <td>0</td>\n",
       "      <td>1277.455</td>\n",
       "      <td>train</td>\n",
       "    </tr>\n",
       "    <tr>\n",
       "      <th>2</th>\n",
       "      <td>305cb1486ed8610c00b37007926cb2c4</td>\n",
       "      <td>11</td>\n",
       "      <td>Mozilla/5.0 (iPhone; CPU iPhone OS 7_1_2 like ...</td>\n",
       "      <td>iPhone - MobileWeb</td>\n",
       "      <td>2019-08-01</td>\n",
       "      <td>0</td>\n",
       "      <td>0</td>\n",
       "      <td>0</td>\n",
       "      <td>21.704</td>\n",
       "      <td>train</td>\n",
       "    </tr>\n",
       "    <tr>\n",
       "      <th>3</th>\n",
       "      <td>f2c1ecc9993f0071df91ba178450498c</td>\n",
       "      <td>2794</td>\n",
       "      <td>Mozilla/5.0 (compatible; MSIE 9.0; Windows NT ...</td>\n",
       "      <td>Desktop - IE</td>\n",
       "      <td>2019-12-30</td>\n",
       "      <td>0</td>\n",
       "      <td>1</td>\n",
       "      <td>0</td>\n",
       "      <td>455.201</td>\n",
       "      <td>train</td>\n",
       "    </tr>\n",
       "    <tr>\n",
       "      <th>4</th>\n",
       "      <td>e460830ae295e55d2216ebdc761ab9a6</td>\n",
       "      <td>3674</td>\n",
       "      <td>Mozilla/5.0 (iPhone; CPU iPhone OS 7_1_1 like ...</td>\n",
       "      <td>iPhone - Web</td>\n",
       "      <td>2019-09-10</td>\n",
       "      <td>0</td>\n",
       "      <td>0</td>\n",
       "      <td>0</td>\n",
       "      <td>1164.877</td>\n",
       "      <td>train</td>\n",
       "    </tr>\n",
       "  </tbody>\n",
       "</table>\n",
       "</div>"
      ],
      "text/plain": [
       "                         session_id  session_number  \\\n",
       "0  57f879e70d3c5fc2a98102d64c9fd84e             715   \n",
       "1  a5442b0c7c33d0a811e7661e556b2de8              55   \n",
       "2  305cb1486ed8610c00b37007926cb2c4              11   \n",
       "3  f2c1ecc9993f0071df91ba178450498c            2794   \n",
       "4  e460830ae295e55d2216ebdc761ab9a6            3674   \n",
       "\n",
       "                                        client_agent      device_details  \\\n",
       "0  Mozilla/5.0 (Windows NT 6.1; WOW64) AppleWebKi...    Desktop - Chrome   \n",
       "1                           Product/8.0 iPhone/8.1.3        iPhone - iOS   \n",
       "2  Mozilla/5.0 (iPhone; CPU iPhone OS 7_1_2 like ...  iPhone - MobileWeb   \n",
       "3  Mozilla/5.0 (compatible; MSIE 9.0; Windows NT ...        Desktop - IE   \n",
       "4  Mozilla/5.0 (iPhone; CPU iPhone OS 7_1_1 like ...        iPhone - Web   \n",
       "\n",
       "        date  purchased  added_in_cart  checked_out  time_spent   data  \n",
       "0 2020-01-22          1              0            0     236.886  train  \n",
       "1 2020-02-27          1              0            0    1277.455  train  \n",
       "2 2019-08-01          0              0            0      21.704  train  \n",
       "3 2019-12-30          0              1            0     455.201  train  \n",
       "4 2019-09-10          0              0            0    1164.877  train  "
      ]
     },
     "execution_count": 74,
     "metadata": {},
     "output_type": "execute_result"
    }
   ],
   "source": [
    "train_df = pd.read_csv('train.csv', parse_dates = ['date'])\n",
    "test_df = pd.read_csv('test.csv', parse_dates = ['date'])\n",
    "\n",
    "train_df['data'] = 'train'\n",
    "test_df['data'] = 'test'\n",
    "df = pd.concat([train_df, test_df])\n",
    "df.head()"
   ]
  },
  {
   "cell_type": "markdown",
   "metadata": {},
   "source": [
    "### EDA"
   ]
  },
  {
   "cell_type": "code",
   "execution_count": 75,
   "metadata": {},
   "outputs": [],
   "source": [
    "def basic_eda(df):\n",
    "    print('SHAPE')\n",
    "    print(df.shape)\n",
    "    print('.' * 100)\n",
    "    print('\\nINFO')\n",
    "    print(df.info())\n",
    "    print('.' * 100)\n",
    "    print('\\nMISSING VALUES')\n",
    "    print('Total Missing:', df.isna().sum().sum())\n",
    "    print(df.isna().sum())\n",
    "    print('.' * 100)\n",
    "    print('\\nDUPLICATES')\n",
    "    print(df.duplicated().sum())\n",
    "    print('.' * 100)  \n",
    "    print('\\nDESCRIBE')\n",
    "    print(df.describe())\n",
    "    "
   ]
  },
  {
   "cell_type": "code",
   "execution_count": 76,
   "metadata": {
    "scrolled": true
   },
   "outputs": [
    {
     "name": "stdout",
     "output_type": "stream",
     "text": [
      "SHAPE\n",
      "(7756, 10)\n",
      "....................................................................................................\n",
      "\n",
      "INFO\n",
      "<class 'pandas.core.frame.DataFrame'>\n",
      "Int64Index: 7756 entries, 0 to 2326\n",
      "Data columns (total 10 columns):\n",
      " #   Column          Non-Null Count  Dtype         \n",
      "---  ------          --------------  -----         \n",
      " 0   session_id      7756 non-null   object        \n",
      " 1   session_number  7756 non-null   int64         \n",
      " 2   client_agent    7537 non-null   object        \n",
      " 3   device_details  7756 non-null   object        \n",
      " 4   date            7756 non-null   datetime64[ns]\n",
      " 5   purchased       7756 non-null   int64         \n",
      " 6   added_in_cart   7756 non-null   int64         \n",
      " 7   checked_out     7756 non-null   int64         \n",
      " 8   time_spent      5429 non-null   float64       \n",
      " 9   data            7756 non-null   object        \n",
      "dtypes: datetime64[ns](1), float64(1), int64(4), object(4)\n",
      "memory usage: 666.5+ KB\n",
      "None\n",
      "....................................................................................................\n",
      "\n",
      "MISSING VALUES\n",
      "Total Missing: 2546\n",
      "session_id           0\n",
      "session_number       0\n",
      "client_agent       219\n",
      "device_details       0\n",
      "date                 0\n",
      "purchased            0\n",
      "added_in_cart        0\n",
      "checked_out          0\n",
      "time_spent        2327\n",
      "data                 0\n",
      "dtype: int64\n",
      "....................................................................................................\n",
      "\n",
      "DUPLICATES\n",
      "0\n",
      "....................................................................................................\n",
      "\n",
      "DESCRIBE\n",
      "       session_number    purchased  added_in_cart  checked_out    time_spent\n",
      "count     7756.000000  7756.000000    7756.000000  7756.000000   5429.000000\n",
      "mean      1079.008381     0.159360       0.164905     0.018695    663.194292\n",
      "std       1446.873325     0.366036       0.371118     0.135455   1713.671664\n",
      "min         11.000000     0.000000       0.000000     0.000000     14.400000\n",
      "25%        121.000000     0.000000       0.000000     0.000000     22.699000\n",
      "50%        506.000000     0.000000       0.000000     0.000000     98.312000\n",
      "75%       1408.000000     0.000000       0.000000     0.000000    600.463000\n",
      "max       7722.000000     1.000000       1.000000     1.000000  38494.025000\n"
     ]
    }
   ],
   "source": [
    "basic_eda(df)"
   ]
  },
  {
   "cell_type": "code",
   "execution_count": 77,
   "metadata": {
    "scrolled": true
   },
   "outputs": [
    {
     "name": "stdout",
     "output_type": "stream",
     "text": [
      "Unique values in the dataset:\n",
      "\n",
      "__________________________________________________\n",
      "session_id: 5429 object\n",
      "1a807ee6db5aee43fa73f9772f47e468    1\n",
      "27f2cba72af61db4a55ee9e8a3c3ca21    1\n",
      "366a3d33bee0503869d4ca2a06695a25    1\n",
      "be39239df41fe14e0ec1fbe8f6f4e0be    1\n",
      "d1dbac66ab8e7c316af34b954c02f4ec    1\n",
      "                                   ..\n",
      "f5e0a4566025108f2314f97212df9dde    1\n",
      "04276ad1dbe0059591e1efbedbdcae04    1\n",
      "b6e0749891b7a405992348bcd6b35ac1    1\n",
      "7a36447f63c580f293b48a8d837eb9c3    1\n",
      "14e838e83a0d19f8ae27747fc64a4cd1    1\n",
      "Name: session_id, Length: 5429, dtype: int64\n",
      "__________________________________________________\n",
      "session_number: 610 int64\n",
      "11      437\n",
      "22      192\n",
      "33      132\n",
      "44      101\n",
      "55       93\n",
      "       ... \n",
      "3949      1\n",
      "3696      1\n",
      "5962      1\n",
      "7601      1\n",
      "6083      1\n",
      "Name: session_number, Length: 610, dtype: int64\n",
      "__________________________________________________\n",
      "client_agent: 698 object\n",
      "Mozilla/5.0 (iPhone; CPU iPhone OS 7_1_1 like Mac OS X) AppleWebKit/537.51.2 (KHTML, like Gecko) Mobile/11D201                                                                                      209\n",
      "Mozilla/5.0 (Windows NT 6.3; WOW64; Trident/7.0; Touch; rv:11.0) like Gecko                                                                                                                         163\n",
      "Mozilla/5.0 (Windows NT 6.1; WOW64; Trident/7.0; rv:11.0) like Gecko                                                                                                                                148\n",
      "Product/4.2.0 iPhone/7.1.1                                                                                                                                                                          146\n",
      "Product/4.7.0 iPhone/8.1.2                                                                                                                                                                          144\n",
      "                                                                                                                                                                                                   ... \n",
      "Product/150264 Android/4.4.2 Device/samsung_SM-G900F Carrier/StarHub Type/Mobile                                                                                                                      1\n",
      "Product/160326 Android/4.4.2 Device/samsung_GT-N7105 Carrier/YES OPTUS Type/Mobile                                                                                                                    1\n",
      "Mozilla/5.0 (iPad; CPU OS 8_2 like Mac OS X) AppleWebKit/600.1.4 (KHTML, like Gecko) Version/8.0 Mobile/12D508 Safari/600.1.4                                                                         1\n",
      "Product/160402 Android/4.4.2 Device/samsung_SM-G900F Carrier/StarHub Type/Mobile                                                                                                                      1\n",
      "Mozilla/4.0 (compatible; MSIE 8.0; Windows NT 6.1; WOW64; Trident/4.0; SLCC2; .NET CLR 2.0.50727; .NET CLR 3.5.30729; .NET CLR 3.0.30729; InfoPath.2; .NET4.0C; .NET4.0E; MS-RTC S; MS-RTC LM 8)      1\n",
      "Name: client_agent, Length: 698, dtype: int64\n",
      "__________________________________________________\n",
      "device_details: 17 object\n",
      "iPhone - iOS                  1515\n",
      "Desktop - Chrome               815\n",
      "iPhone - Web                   665\n",
      "Android Phone - Android        326\n",
      "Desktop - Safari               313\n",
      "Desktop - IE                   292\n",
      "iPad - Web                     289\n",
      "iPhone - MobileWeb             277\n",
      "Desktop - Firefox              234\n",
      "Android Tablet - Web           203\n",
      "Other - Other                  185\n",
      "Unknown - MobileWeb             87\n",
      "Android Phone - Web             86\n",
      "iPad - iOS                      77\n",
      "Android Phone - MobileWeb       54\n",
      "Android Tablet - Android         9\n",
      "Android Tablet - MobileWeb       2\n",
      "Name: device_details, dtype: int64\n",
      "__________________________________________________\n",
      "date: 342 datetime64[ns]\n",
      "2019-09-05    41\n",
      "2019-12-01    40\n",
      "2019-12-23    39\n",
      "2019-09-02    39\n",
      "2019-09-06    38\n",
      "              ..\n",
      "2019-07-04     1\n",
      "2020-04-09     1\n",
      "2020-04-23     1\n",
      "2020-03-20     1\n",
      "2019-06-24     1\n",
      "Name: date, Length: 342, dtype: int64\n",
      "__________________________________________________\n",
      "purchased: 2 int64\n",
      "0    4565\n",
      "1     864\n",
      "Name: purchased, dtype: int64\n",
      "__________________________________________________\n",
      "added_in_cart: 2 int64\n",
      "0    4549\n",
      "1     880\n",
      "Name: added_in_cart, dtype: int64\n",
      "__________________________________________________\n",
      "checked_out: 2 int64\n",
      "0    5334\n",
      "1      95\n",
      "Name: checked_out, dtype: int64\n",
      "__________________________________________________\n",
      "time_spent: 5235 float64\n",
      "20.518     4\n",
      "20.688     4\n",
      "19.849     4\n",
      "19.521     4\n",
      "19.485     3\n",
      "          ..\n",
      "530.492    1\n",
      "488.133    1\n",
      "679.078    1\n",
      "21.739     1\n",
      "65.000     1\n",
      "Name: time_spent, Length: 5235, dtype: int64\n",
      "__________________________________________________\n",
      "data: 1 object\n",
      "train    5429\n",
      "Name: data, dtype: int64\n"
     ]
    }
   ],
   "source": [
    "print('Unique values in the dataset:\\n')\n",
    "\n",
    "for i in train_df.columns:\n",
    "    print('_' * 50)\n",
    "    print(i + ':', train_df[i].nunique(), train_df[i].dtype)\n",
    "    print(train_df[i].value_counts())"
   ]
  },
  {
   "cell_type": "code",
   "execution_count": 78,
   "metadata": {
    "scrolled": true
   },
   "outputs": [
    {
     "data": {
      "image/png": "[encoded data removed]",
      "text/plain": [
       "<Figure size 1440x288 with 1 Axes>"
      ]
     },
     "metadata": {
      "needs_background": "light"
     },
     "output_type": "display_data"
    }
   ],
   "source": [
    "plt.figure(figsize = (20, 4))\n",
    "sns.boxplot(df['time_spent'])\n",
    "plt.grid();"
   ]
  },
  {
   "cell_type": "code",
   "execution_count": 79,
   "metadata": {},
   "outputs": [
    {
     "data": {
      "image/png": "[encoded data removed]",
      "text/plain": [
       "<Figure size 432x288 with 1 Axes>"
      ]
     },
     "metadata": {
      "needs_background": "light"
     },
     "output_type": "display_data"
    }
   ],
   "source": [
    "sns.boxplot(x = 'added_in_cart', y = 'time_spent', data = df)\n",
    "plt.grid();"
   ]
  },
  {
   "cell_type": "code",
   "execution_count": 80,
   "metadata": {},
   "outputs": [
    {
     "data": {
      "image/png": "[encoded data removed]",
      "text/plain": [
       "<Figure size 432x288 with 1 Axes>"
      ]
     },
     "metadata": {
      "needs_background": "light"
     },
     "output_type": "display_data"
    }
   ],
   "source": [
    "sns.boxplot(x = 'purchased', y = 'time_spent', data = df)\n",
    "plt.grid();"
   ]
  },
  {
   "cell_type": "code",
   "execution_count": 81,
   "metadata": {},
   "outputs": [
    {
     "data": {
      "image/png": "[encoded data removed]",
      "text/plain": [
       "<Figure size 432x288 with 1 Axes>"
      ]
     },
     "metadata": {
      "needs_background": "light"
     },
     "output_type": "display_data"
    }
   ],
   "source": [
    "sns.boxplot(x = 'checked_out', y = 'time_spent', data = df)\n",
    "plt.grid();"
   ]
  },
  {
   "cell_type": "code",
   "execution_count": 82,
   "metadata": {},
   "outputs": [
    {
     "data": {
      "text/plain": [
       "<matplotlib.axes._subplots.AxesSubplot at 0x1e800616208>"
      ]
     },
     "execution_count": 82,
     "metadata": {},
     "output_type": "execute_result"
    },
    {
     "data": {
      "image/png": "[encoded data removed]",
      "text/plain": [
       "<Figure size 720x576 with 2 Axes>"
      ]
     },
     "metadata": {
      "needs_background": "light"
     },
     "output_type": "display_data"
    }
   ],
   "source": [
    "plt.figure(figsize = (10, 8))\n",
    "\n",
    "sns.heatmap(df.corr(), annot = True, annot_kws = {'size': 10}, cmap = 'GnBu')"
   ]
  },
  {
   "cell_type": "markdown",
   "metadata": {},
   "source": [
    "### Feature Engineering"
   ]
  },
  {
   "cell_type": "code",
   "execution_count": 83,
   "metadata": {},
   "outputs": [],
   "source": [
    "df['client_agent'].fillna(df['client_agent'].mode()[0], inplace = True)"
   ]
  },
  {
   "cell_type": "code",
   "execution_count": 84,
   "metadata": {},
   "outputs": [],
   "source": [
    "df.drop('session_id', axis = 1, inplace = True)"
   ]
  },
  {
   "cell_type": "code",
   "execution_count": 85,
   "metadata": {},
   "outputs": [],
   "source": [
    "df['year'] = df['date'].dt.year\n",
    "df['quarter'] = df['date'].dt.quarter\n",
    "df['month'] = df['date'].dt.month\n",
    "df['day'] = df['date'].dt.day\n",
    "df['dayofweek'] = df['date'].dt.weekday"
   ]
  },
  {
   "cell_type": "code",
   "execution_count": 86,
   "metadata": {},
   "outputs": [
    {
     "data": {
      "text/plain": [
       "month            -0.503060\n",
       "quarter          -0.468780\n",
       "day               0.073725\n",
       "dayofweek         0.094256\n",
       "year              1.046028\n",
       "added_in_cart     1.806334\n",
       "purchased         1.861717\n",
       "session_number    2.137872\n",
       "checked_out       7.108323\n",
       "time_spent        8.037562\n",
       "dtype: float64"
      ]
     },
     "execution_count": 86,
     "metadata": {},
     "output_type": "execute_result"
    }
   ],
   "source": [
    "df.skew().sort_values()"
   ]
  },
  {
   "cell_type": "code",
   "execution_count": 87,
   "metadata": {},
   "outputs": [],
   "source": [
    "Q1 = df['time_spent'].quantile(0.25)\n",
    "Q3 = df['time_spent'].quantile(0.75) \n",
    "IQR = Q3 - Q1 \n",
    "lower_range = (Q1 - 1.5 * IQR)\n",
    "upper_range = (Q3 + 1.5 * IQR)\n",
    "extreme_lower_range = (Q1 - 3 * IQR)\n",
    "extreme_upper_range = (Q1 + 3 * IQR)\n",
    "\n",
    "\n",
    "df['time_spent'] = np.where(df['time_spent'] > upper_range, df['time_spent'].median(), df['time_spent'])"
   ]
  },
  {
   "cell_type": "code",
   "execution_count": 88,
   "metadata": {},
   "outputs": [
    {
     "data": {
      "text/plain": [
       "<matplotlib.axes._subplots.AxesSubplot at 0x1e80077f5c8>"
      ]
     },
     "execution_count": 88,
     "metadata": {},
     "output_type": "execute_result"
    },
    {
     "data": {
      "image/png": "[encoded data removed]",
      "text/plain": [
       "<Figure size 432x288 with 1 Axes>"
      ]
     },
     "metadata": {
      "needs_background": "light"
     },
     "output_type": "display_data"
    }
   ],
   "source": [
    "df['time_spent'] = np.log1p(df['time_spent'])\n",
    "\n",
    "sns.distplot(df['time_spent'], fit = norm)"
   ]
  },
  {
   "cell_type": "code",
   "execution_count": 89,
   "metadata": {},
   "outputs": [],
   "source": [
    "df['combination'] = df['added_in_cart'].astype('str') + df['purchased'].astype('str') + df['checked_out'].astype('str')\n",
    "\n",
    "df['combination'].replace(['000', '001', '010', '011', '100', '101', '110', '111'],\n",
    "                                [int(0), int(1), int(2), int(3), int(4), int(5), int(6), int(7)], inplace = True)"
   ]
  },
  {
   "cell_type": "code",
   "execution_count": 90,
   "metadata": {
    "scrolled": true
   },
   "outputs": [],
   "source": [
    "sesh_count = pd.DataFrame(df.session_number.value_counts()[df['session_number']])\n",
    "sesh_count.reset_index(drop=True, inplace=True)\n",
    "df['sesh_count'] = sesh_count"
   ]
  },
  {
   "cell_type": "code",
   "execution_count": 91,
   "metadata": {},
   "outputs": [],
   "source": [
    "train_df = df[df['data'] == 'train']\n",
    "test_df = df[df['data'] == 'test']\n",
    "\n",
    "train_df.drop('data', axis = 1, inplace = True)\n",
    "test_df.drop('data', axis = 1, inplace = True)"
   ]
  },
  {
   "cell_type": "code",
   "execution_count": 92,
   "metadata": {},
   "outputs": [],
   "source": [
    "tfvect = TfidfVectorizer(min_df = 0.1)\n",
    "trans = tfvect.fit_transform(train_df['client_agent'])\n",
    "agent_details = pd.DataFrame(trans.toarray(), columns = tfvect.get_feature_names())\n",
    "train_df = pd.concat([train_df, agent_details], axis = 1)\n",
    "\n",
    "trans = tfvect.fit_transform(test_df['client_agent'])\n",
    "agent_details = pd.DataFrame(trans.toarray(), columns = tfvect.get_feature_names())\n",
    "test_df = pd.concat([test_df, agent_details], axis = 1)"
   ]
  },
  {
   "cell_type": "code",
   "execution_count": 93,
   "metadata": {
    "scrolled": true
   },
   "outputs": [
    {
     "data": {
      "text/plain": [
       "time_spent        1.000000\n",
       "combination       0.421256\n",
       "added_in_cart     0.327476\n",
       "purchased         0.310597\n",
       "cpu               0.272724\n",
       "os                0.229897\n",
       "like              0.173138\n",
       "mac               0.160204\n",
       "51                0.160105\n",
       "nt                0.140598\n",
       "windows           0.140598\n",
       "applewebkit       0.132750\n",
       "khtml             0.132750\n",
       "rv                0.131992\n",
       "wow64             0.128855\n",
       "iphone            0.128013\n",
       "session_number    0.118890\n",
       "600               0.104753\n",
       "macintosh         0.102955\n",
       "intel             0.102955\n",
       "36                0.095159\n",
       "mobile            0.093372\n",
       "checked_out       0.092448\n",
       "safari            0.092229\n",
       "chrome            0.092063\n",
       "year              0.083669\n",
       "month             0.082327\n",
       "quarter           0.077361\n",
       "product           0.032887\n",
       "537               0.031320\n",
       "version           0.024981\n",
       "dayofweek         0.016845\n",
       "day               0.011876\n",
       "sesh_count        0.011425\n",
       "gecko             0.006158\n",
       "mozilla           0.000233\n",
       "Name: time_spent, dtype: float64"
      ]
     },
     "execution_count": 93,
     "metadata": {},
     "output_type": "execute_result"
    }
   ],
   "source": [
    "abs(train_df.corr()['time_spent']).sort_values(ascending = False)"
   ]
  },
  {
   "cell_type": "markdown",
   "metadata": {},
   "source": [
    "### Cross Validation"
   ]
  },
  {
   "cell_type": "code",
   "execution_count": 95,
   "metadata": {},
   "outputs": [],
   "source": [
    "n_folds = 5\n",
    "\n",
    "def rmsle_cv(model):\n",
    "    kf = KFold(n_folds, shuffle = True, random_state = 1).get_n_splits(X.values)\n",
    "    rmse = np.sqrt(-cross_val_score(model, X.values, y, scoring = 'neg_mean_squared_error', cv = kf))\n",
    "    return(rmse)"
   ]
  },
  {
   "cell_type": "markdown",
   "metadata": {},
   "source": [
    "### Modeling"
   ]
  },
  {
   "cell_type": "code",
   "execution_count": 96,
   "metadata": {},
   "outputs": [],
   "source": [
    "X = train_df.drop(['time_spent', 'client_agent', 'device_details', 'date'], axis = 1)\n",
    "y = train_df['time_spent']\n",
    "\n",
    "X_train, X_val, y_train, y_val = train_test_split(X, y, test_size = 0.1, random_state = 1)\n",
    "\n",
    "test = test_df.drop(['time_spent', 'client_agent', 'device_details', 'date'], axis = 1)"
   ]
  },
  {
   "cell_type": "code",
   "execution_count": 98,
   "metadata": {
    "scrolled": true
   },
   "outputs": [
    {
     "data": {
      "text/plain": [
       "((4886, 35), (4886,), (543, 35), (543,))"
      ]
     },
     "execution_count": 98,
     "metadata": {},
     "output_type": "execute_result"
    }
   ],
   "source": [
    "X_train.shape, y_train.shape, X_val.shape, y_val.shape"
   ]
  },
  {
   "cell_type": "code",
   "execution_count": 99,
   "metadata": {},
   "outputs": [
    {
     "name": "stdout",
     "output_type": "stream",
     "text": [
      "CatBoost CV Score \n",
      "Mean: 1.1104057860767824 \n",
      "SD: 0.027706302188422814\n"
     ]
    }
   ],
   "source": [
    "cat = CatBoostRegressor(iterations = 200, max_depth = 7, l2_leaf_reg = 0.2, random_strength = 0.2, \n",
    "                        verbose = False, random_state = 1) #265, 8, .85, .2 --- 1.1022651545641025\n",
    "\n",
    "\n",
    "score = rmsle_cv(cat)\n",
    "print('CatBoost CV Score','\\nMean:', score.mean(), \n",
    "      '\\nSD:', score.std())"
   ]
  },
  {
   "cell_type": "code",
   "execution_count": 100,
   "metadata": {},
   "outputs": [
    {
     "name": "stdout",
     "output_type": "stream",
     "text": [
      "XGBoost CV Score \n",
      "Mean: 1.1195610440549433 \n",
      "SD: 0.029220408966636916\n"
     ]
    }
   ],
   "source": [
    "xgb = XGBRegressor(n_estimators = 65, max_depth = 2, colsample_bytree = .8, colsample_bylevel = 0.4, \n",
    "                   reg_lambda = .65, booster = 'gbtree', random_state = 11, n_jobs = -1) \n",
    "                                                                #55, 2, .9, .1, .2, 11 --- 1.1087055455183155\n",
    "\n",
    "score = rmsle_cv(xgb)\n",
    "print('XGBoost CV Score','\\nMean:', score.mean(), \n",
    "      '\\nSD:', score.std())"
   ]
  },
  {
   "cell_type": "code",
   "execution_count": 101,
   "metadata": {},
   "outputs": [
    {
     "name": "stdout",
     "output_type": "stream",
     "text": [
      "Gradient Boost CV Score \n",
      "Mean: 1.1156703562101185 \n",
      "SD: 0.02721501423071271\n"
     ]
    }
   ],
   "source": [
    "gb = GradientBoostingRegressor(n_estimators = 70, max_depth = 4, loss = 'ls', \n",
    "                               min_samples_split = 60, min_samples_leaf = 30, max_features = .45,\n",
    "                               random_state = 1) #120, 4, 60, 30, .7  --- 1.1041681874624607\n",
    "\n",
    "score = rmsle_cv(gb)\n",
    "print('Gradient Boost CV Score','\\nMean:', score.mean(), \n",
    "      '\\nSD:', score.std())"
   ]
  },
  {
   "cell_type": "code",
   "execution_count": 102,
   "metadata": {},
   "outputs": [
    {
     "name": "stdout",
     "output_type": "stream",
     "text": [
      "LGBM CV Score \n",
      "Mean: 1.1144180266627026 \n",
      "SD: 0.023496240345378235\n"
     ]
    }
   ],
   "source": [
    "lgbm = LGBMRegressor(num_leaves = 60, boosting_type = 'gbdt',   \n",
    "                              max_depth = 5, reg_lambda = .4, learning_rate = 0.1, \n",
    "                              n_estimators = 55, #subsample = 0.2, subsample_freq = 6, \n",
    "                              colsample_bytree = .7, n_jobs = -1) #60, 5, .7, 275, .3 --- 1.1053483252809346\n",
    "\n",
    "score = rmsle_cv(lgbm)\n",
    "print('LGBM CV Score','\\nMean:', score.mean(), \n",
    "      '\\nSD:', score.std())"
   ]
  },
  {
   "cell_type": "code",
   "execution_count": 103,
   "metadata": {},
   "outputs": [
    {
     "name": "stdout",
     "output_type": "stream",
     "text": [
      "KRR CV Score \n",
      "Mean: 1.1331168411132646 \n",
      "SD: 0.029886685500515563\n"
     ]
    }
   ],
   "source": [
    "krr = KernelRidge(alpha = 1, kernel = 'polynomial', degree = 2, coef0 = 2.5)\n",
    "\n",
    "score = rmsle_cv(krr)\n",
    "print('KRR CV Score','\\nMean:', score.mean(), \n",
    "      '\\nSD:', score.std())"
   ]
  },
  {
   "cell_type": "code",
   "execution_count": 104,
   "metadata": {},
   "outputs": [
    {
     "name": "stdout",
     "output_type": "stream",
     "text": [
      "Stacking Model CV Score \n",
      "Mean: 1.111070584136193 \n",
      "SD: 0.026844856097106642\n"
     ]
    }
   ],
   "source": [
    "estimators = [('gb', gb), ('cat', cat), ('xgb', xgb), ('lgbm', lgbm)]\n",
    "stack = StackingRegressor(estimators = estimators, \n",
    "                        final_estimator = KernelRidge(alpha = 2, kernel = 'polynomial', degree = 2, coef0 = 2.5), \n",
    "                        n_jobs = -1)\n",
    "\n",
    "stack.fit(X, y)\n",
    "stack_pred = stack.predict(test)\n",
    "\n",
    "score = rmsle_cv(stack)\n",
    "print('Stacking Model CV Score','\\nMean:', score.mean(), \n",
    "      '\\nSD:', score.std())"
   ]
  },
  {
   "cell_type": "code",
   "execution_count": 105,
   "metadata": {},
   "outputs": [
    {
     "name": "stdout",
     "output_type": "stream",
     "text": [
      "Weighted Avg Model CV Score \n",
      "Mean: 1.1098893765190703 \n",
      "SD: 0.02694674011107593\n"
     ]
    }
   ],
   "source": [
    "#Final Model\n",
    "\n",
    "wt_avg_model = VotingRegressor(estimators = [('gb', gb), ('cat', cat), ('xgb', xgb), ('lgbm', lgbm)],\n",
    "                               weights = [0.1, 0.6, 0.1, 0.2], n_jobs = -1)\n",
    "score = rmsle_cv(wt_avg_model)\n",
    "print('Weighted Avg Model CV Score','\\nMean:', score.mean(), \n",
    "      '\\nSD:', score.std())\n",
    "\n",
    "wt_avg_model.fit(X, y)\n",
    "wt_avg_pred = wt_avg_model.predict(test)"
   ]
  },
  {
   "cell_type": "code",
   "execution_count": 106,
   "metadata": {
    "scrolled": true
   },
   "outputs": [
    {
     "data": {
      "text/html": [
       "<div>\n",
       "<style scoped>\n",
       "    .dataframe tbody tr th:only-of-type {\n",
       "        vertical-align: middle;\n",
       "    }\n",
       "\n",
       "    .dataframe tbody tr th {\n",
       "        vertical-align: top;\n",
       "    }\n",
       "\n",
       "    .dataframe thead th {\n",
       "        text-align: right;\n",
       "    }\n",
       "</style>\n",
       "<table border=\"1\" class=\"dataframe\">\n",
       "  <thead>\n",
       "    <tr style=\"text-align: right;\">\n",
       "      <th></th>\n",
       "      <th>time_spent</th>\n",
       "    </tr>\n",
       "  </thead>\n",
       "  <tbody>\n",
       "    <tr>\n",
       "      <th>0</th>\n",
       "      <td>314.806109</td>\n",
       "    </tr>\n",
       "    <tr>\n",
       "      <th>1</th>\n",
       "      <td>73.600521</td>\n",
       "    </tr>\n",
       "    <tr>\n",
       "      <th>2</th>\n",
       "      <td>206.615581</td>\n",
       "    </tr>\n",
       "    <tr>\n",
       "      <th>3</th>\n",
       "      <td>53.904036</td>\n",
       "    </tr>\n",
       "    <tr>\n",
       "      <th>4</th>\n",
       "      <td>75.802321</td>\n",
       "    </tr>\n",
       "    <tr>\n",
       "      <th>...</th>\n",
       "      <td>...</td>\n",
       "    </tr>\n",
       "    <tr>\n",
       "      <th>2322</th>\n",
       "      <td>32.057067</td>\n",
       "    </tr>\n",
       "    <tr>\n",
       "      <th>2323</th>\n",
       "      <td>315.141026</td>\n",
       "    </tr>\n",
       "    <tr>\n",
       "      <th>2324</th>\n",
       "      <td>80.021022</td>\n",
       "    </tr>\n",
       "    <tr>\n",
       "      <th>2325</th>\n",
       "      <td>199.321231</td>\n",
       "    </tr>\n",
       "    <tr>\n",
       "      <th>2326</th>\n",
       "      <td>233.940107</td>\n",
       "    </tr>\n",
       "  </tbody>\n",
       "</table>\n",
       "<p>2327 rows × 1 columns</p>\n",
       "</div>"
      ],
      "text/plain": [
       "      time_spent\n",
       "0     314.806109\n",
       "1      73.600521\n",
       "2     206.615581\n",
       "3      53.904036\n",
       "4      75.802321\n",
       "...          ...\n",
       "2322   32.057067\n",
       "2323  315.141026\n",
       "2324   80.021022\n",
       "2325  199.321231\n",
       "2326  233.940107\n",
       "\n",
       "[2327 rows x 1 columns]"
      ]
     },
     "execution_count": 106,
     "metadata": {},
     "output_type": "execute_result"
    }
   ],
   "source": [
    "submission = pd.DataFrame(abs(np.expm1(wt_avg_pred)), columns = ['time_spent'])\n",
    "submission.to_csv('submission.csv', index = False)\n",
    "sub = pd.read_csv('submission.csv')\n",
    "sub"
   ]
  },
  {
   "cell_type": "markdown",
   "metadata": {},
   "source": [
    "## ========== END =========="
   ]
  }
 ],
 "metadata": {
  "kernelspec": {
   "display_name": "Python 3",
   "language": "python",
   "name": "python3"
  },
  "language_info": {
   "codemirror_mode": {
    "name": "ipython",
    "version": 3
   },
   "file_extension": ".py",
   "mimetype": "text/x-python",
   "name": "python",
   "nbconvert_exporter": "python",
   "pygments_lexer": "ipython3",
   "version": "3.7.6"
  }
 },
 "nbformat": 4,
 "nbformat_minor": 4
}
